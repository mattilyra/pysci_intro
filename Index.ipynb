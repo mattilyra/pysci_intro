{
 "metadata": {
  "name": "",
  "signature": "sha256:7cf54498bc4a18910f58664718050cda0e2e079348222161c5d9a4d625dbd74c"
 },
 "nbformat": 3,
 "nbformat_minor": 0,
 "worksheets": [
  {
   "cells": [
    {
     "cell_type": "markdown",
     "metadata": {},
     "source": [
      "This is the Index page of a gentle introduction to the scientific computing support available in Python. Eventually the idea is to cover the basics on the following topics (not necessarily in that order):\n",
      "\n",
      " - IPython\n",
      " - scikit-learn\n",
      " - Numpy\n",
      " - SciPy\n",
      " - Pandas"
     ]
    }
   ],
   "metadata": {}
  }
 ]
}